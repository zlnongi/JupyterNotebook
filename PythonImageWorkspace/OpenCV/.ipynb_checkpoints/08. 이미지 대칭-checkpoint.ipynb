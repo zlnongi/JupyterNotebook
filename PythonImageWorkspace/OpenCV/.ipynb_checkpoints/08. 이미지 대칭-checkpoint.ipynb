{
 "cells": [
  {
   "cell_type": "markdown",
   "id": "95fe4f9e",
   "metadata": {},
   "source": [
    "# 8. 이미지 대칭"
   ]
  },
  {
   "cell_type": "markdown",
   "id": "14afc839",
   "metadata": {},
   "source": [
    "## 좌우 대칭"
   ]
  },
  {
   "cell_type": "code",
   "execution_count": null,
   "id": "6bed0e7c",
   "metadata": {},
   "outputs": [],
   "source": [
    "import cv2\n",
    "img = cv2.imread('img.jpg')\n",
    "flip_horizontal = cv2.flip(img,1) # flipCode > 0 : 좌우 대칭 Horizontal\n",
    "\n",
    "cv2.imshow('img', img)\n",
    "cv2.imshow('flip_horizontal', flip_horizontal)\n",
    "cv2.waitKey(0)\n",
    "cv2.destroyAllWindows()"
   ]
  },
  {
   "cell_type": "markdown",
   "id": "f095fa04",
   "metadata": {},
   "source": [
    "## 상하 대칭"
   ]
  },
  {
   "cell_type": "code",
   "execution_count": null,
   "id": "482433cc",
   "metadata": {},
   "outputs": [],
   "source": [
    "import cv2\n",
    "img = cv2.imread('img.jpg')\n",
    "flip_vertical = cv2.flip(img, 0) # flipCode == 0 :상하 대칭 Vertical\n",
    "\n",
    "cv2.imshow('img', img)\n",
    "cv2.imshow('flip_vertical', flip_vertical)\n",
    "cv2.waitKey(0)\n",
    "cv2.destroyAllWindows()"
   ]
  },
  {
   "cell_type": "markdown",
   "id": "a258c327",
   "metadata": {},
   "source": [
    "## 상하좌우 대칭"
   ]
  },
  {
   "cell_type": "code",
   "execution_count": null,
   "id": "e455b66d",
   "metadata": {},
   "outputs": [],
   "source": [
    "import cv2\n",
    "img = cv2.imread('img.jpg')\n",
    "flip_both = cv2.flip(img, -1) # flipCode < 0 :상하좌우 대칭\n",
    "\n",
    "cv2.imshow('img', img)\n",
    "cv2.imshow('flip_both', flip_both)\n",
    "cv2.waitKey(0)\n",
    "cv2.destroyAllWindows()"
   ]
  }
 ],
 "metadata": {
  "kernelspec": {
   "display_name": "Python 3 (ipykernel)",
   "language": "python",
   "name": "python3"
  },
  "language_info": {
   "codemirror_mode": {
    "name": "ipython",
    "version": 3
   },
   "file_extension": ".py",
   "mimetype": "text/x-python",
   "name": "python",
   "nbconvert_exporter": "python",
   "pygments_lexer": "ipython3",
   "version": "3.9.7"
  }
 },
 "nbformat": 4,
 "nbformat_minor": 5
}
